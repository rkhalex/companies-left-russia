{
 "cells": [
  {
   "cell_type": "markdown",
   "source": [
    "# Working with DataFrames"
   ],
   "metadata": {
    "collapsed": false
   }
  },
  {
   "cell_type": "markdown",
   "source": [
    "Parsing, cleaning, creating DFs"
   ],
   "metadata": {
    "collapsed": false
   }
  },
  {
   "cell_type": "code",
   "execution_count": 160,
   "metadata": {
    "collapsed": true,
    "ExecuteTime": {
     "end_time": "2023-05-26T22:00:14.800316Z",
     "start_time": "2023-05-26T22:00:14.611674Z"
    }
   },
   "outputs": [],
   "source": [
    "import pandas as pd\n",
    "import config as cf"
   ]
  },
  {
   "cell_type": "code",
   "execution_count": 161,
   "outputs": [],
   "source": [
    "v2 = cf.get_v2()\n",
    "v3 = cf.get_v3()\n",
    "spark = cf.get_spark_interfax()"
   ],
   "metadata": {
    "collapsed": false,
    "ExecuteTime": {
     "end_time": "2023-05-26T22:00:14.800501Z",
     "start_time": "2023-05-26T22:00:14.617493Z"
    }
   }
  },
  {
   "cell_type": "markdown",
   "source": [
    "## Cleaning Major Tables"
   ],
   "metadata": {
    "collapsed": false
   }
  },
  {
   "cell_type": "markdown",
   "source": [
    "#### V3 Major DF"
   ],
   "metadata": {
    "collapsed": false
   }
  },
  {
   "cell_type": "code",
   "execution_count": 162,
   "outputs": [
    {
     "name": "stdout",
     "output_type": "stream",
     "text": [
      " \n",
      "Count total NaN at each column in a DataFrame : \n",
      "\n",
      " i              0\n",
      "Action        27\n",
      "Industry     420\n",
      "Country      180\n",
      "ИНН         3095\n",
      "dtype: int64\n"
     ]
    },
    {
     "data": {
      "text/plain": "(3344, 6)"
     },
     "execution_count": 162,
     "metadata": {},
     "output_type": "execute_result"
    },
    {
     "data": {
      "text/plain": "(3344, 6)"
     },
     "execution_count": 162,
     "metadata": {},
     "output_type": "execute_result"
    }
   ],
   "source": [
    "print(\" \\nCount total NaN at each column in a DataFrame : \\n\\n\", v2.isnull().sum())\n",
    "v3.shape"
   ],
   "metadata": {
    "collapsed": false,
    "ExecuteTime": {
     "end_time": "2023-05-26T22:00:14.972280Z",
     "start_time": "2023-05-26T22:00:14.631482Z"
    }
   }
  },
  {
   "cell_type": "code",
   "execution_count": null,
   "outputs": [],
   "source": [
    "v3 = v3.drop('Unnamed: 0', axis = 1)\n",
    "v3 = v3.rename(columns = {'tone': 'Tone'})\n",
    "v3 = v3.sort_values(by='Company')\n",
    "v3 = v3.reset_index(drop=True)\n",
    "\n",
    "v3.head(1)"
   ],
   "metadata": {
    "collapsed": false,
    "is_executing": true
   }
  },
  {
   "cell_type": "code",
   "execution_count": null,
   "outputs": [
    {
     "data": {
      "text/plain": "              Company                                             Action  \\\n0      1840 & Company  ['suspend', 'aesthetics', 'operations', ',', '...   \n1           1Password      ['suspend', 'new', 'investments/development']   \n2               1xBet  ['ending', 'new', 'investments', 'where', 'has...   \n3  3HC Semiconductors  ['some', 'clients', 'no', 'longer', 'supplied'...   \n4                  3M  ['suspend', 'supply', 'of', 'parts', 'and', 'd...   \n5          3M Company  ['suspend', 'new', 'investments', 'and', 'new'...   \n6                 A&D  ['cease', 'trading', 'operations', 'with', 'ru...   \n7              A-SAFE  ['still', 'operating', 'in', 'russia', ';', 's...   \n8                 AAK                 ['suspended', 'some', 'shipments']   \n9            AB InBev  ['continues', 'flows', 'to', 'russian', 'and',...   \n\n                 Industry        Country      Tone  \n0             Health Care  United States    paused  \n1  Consumer Discretionary         France    paused  \n2              Financials    Netherlands    leaved  \n3               Materials         France    leaved  \n4             Industrials    Netherlands  continue  \n5             Health Care    Switzerland    paused  \n6             Industrials        Germany    leaved  \n7  Information Technology      Australia    leaved  \n8  Information Technology          Japan    leaved  \n9             Industrials         France    leaved  ",
      "text/html": "<div>\n<style scoped>\n    .dataframe tbody tr th:only-of-type {\n        vertical-align: middle;\n    }\n\n    .dataframe tbody tr th {\n        vertical-align: top;\n    }\n\n    .dataframe thead th {\n        text-align: right;\n    }\n</style>\n<table border=\"1\" class=\"dataframe\">\n  <thead>\n    <tr style=\"text-align: right;\">\n      <th></th>\n      <th>Company</th>\n      <th>Action</th>\n      <th>Industry</th>\n      <th>Country</th>\n      <th>Tone</th>\n    </tr>\n  </thead>\n  <tbody>\n    <tr>\n      <th>0</th>\n      <td>1840 &amp; Company</td>\n      <td>['suspend', 'aesthetics', 'operations', ',', '...</td>\n      <td>Health Care</td>\n      <td>United States</td>\n      <td>paused</td>\n    </tr>\n    <tr>\n      <th>1</th>\n      <td>1Password</td>\n      <td>['suspend', 'new', 'investments/development']</td>\n      <td>Consumer Discretionary</td>\n      <td>France</td>\n      <td>paused</td>\n    </tr>\n    <tr>\n      <th>2</th>\n      <td>1xBet</td>\n      <td>['ending', 'new', 'investments', 'where', 'has...</td>\n      <td>Financials</td>\n      <td>Netherlands</td>\n      <td>leaved</td>\n    </tr>\n    <tr>\n      <th>3</th>\n      <td>3HC Semiconductors</td>\n      <td>['some', 'clients', 'no', 'longer', 'supplied'...</td>\n      <td>Materials</td>\n      <td>France</td>\n      <td>leaved</td>\n    </tr>\n    <tr>\n      <th>4</th>\n      <td>3M</td>\n      <td>['suspend', 'supply', 'of', 'parts', 'and', 'd...</td>\n      <td>Industrials</td>\n      <td>Netherlands</td>\n      <td>continue</td>\n    </tr>\n    <tr>\n      <th>5</th>\n      <td>3M Company</td>\n      <td>['suspend', 'new', 'investments', 'and', 'new'...</td>\n      <td>Health Care</td>\n      <td>Switzerland</td>\n      <td>paused</td>\n    </tr>\n    <tr>\n      <th>6</th>\n      <td>A&amp;D</td>\n      <td>['cease', 'trading', 'operations', 'with', 'ru...</td>\n      <td>Industrials</td>\n      <td>Germany</td>\n      <td>leaved</td>\n    </tr>\n    <tr>\n      <th>7</th>\n      <td>A-SAFE</td>\n      <td>['still', 'operating', 'in', 'russia', ';', 's...</td>\n      <td>Information Technology</td>\n      <td>Australia</td>\n      <td>leaved</td>\n    </tr>\n    <tr>\n      <th>8</th>\n      <td>AAK</td>\n      <td>['suspended', 'some', 'shipments']</td>\n      <td>Information Technology</td>\n      <td>Japan</td>\n      <td>leaved</td>\n    </tr>\n    <tr>\n      <th>9</th>\n      <td>AB InBev</td>\n      <td>['continues', 'flows', 'to', 'russian', 'and',...</td>\n      <td>Industrials</td>\n      <td>France</td>\n      <td>leaved</td>\n    </tr>\n  </tbody>\n</table>\n</div>"
     },
     "execution_count": 164,
     "metadata": {},
     "output_type": "execute_result"
    }
   ],
   "source": [
    "# Define a dictionary to map the numbers to their corresponding labels\n",
    "label_mapping = {0: 'leaved', 1: 'continue', 2: 'paused'}\n",
    "\n",
    "# Replace the numbers in the specified column with the labels\n",
    "v3['Tone'] = v3['Tone'].map(label_mapping)\n",
    "\n",
    "v3.head(10)"
   ],
   "metadata": {
    "collapsed": false,
    "is_executing": true
   }
  },
  {
   "cell_type": "markdown",
   "source": [
    "#### V2 Major DF"
   ],
   "metadata": {
    "collapsed": false
   }
  },
  {
   "cell_type": "code",
   "execution_count": null,
   "outputs": [
    {
     "data": {
      "text/plain": "          Company                                             Action  \\\n0  1840 & Company  suspend aesthetics operations, pause new clini...   \n\n      Industry        Country         INT  \n0  Health Care  United States  7743855873  ",
      "text/html": "<div>\n<style scoped>\n    .dataframe tbody tr th:only-of-type {\n        vertical-align: middle;\n    }\n\n    .dataframe tbody tr th {\n        vertical-align: top;\n    }\n\n    .dataframe thead th {\n        text-align: right;\n    }\n</style>\n<table border=\"1\" class=\"dataframe\">\n  <thead>\n    <tr style=\"text-align: right;\">\n      <th></th>\n      <th>Company</th>\n      <th>Action</th>\n      <th>Industry</th>\n      <th>Country</th>\n      <th>INT</th>\n    </tr>\n  </thead>\n  <tbody>\n    <tr>\n      <th>0</th>\n      <td>1840 &amp; Company</td>\n      <td>suspend aesthetics operations, pause new clini...</td>\n      <td>Health Care</td>\n      <td>United States</td>\n      <td>7743855873</td>\n    </tr>\n  </tbody>\n</table>\n</div>"
     },
     "execution_count": 165,
     "metadata": {},
     "output_type": "execute_result"
    }
   ],
   "source": [
    "v2 = v2.rename(columns={'i': 'Company'})\n",
    "v2 = v2.rename(columns={'ИНН': 'INT'})\n",
    "v2 = v2.sort_values(by='Company')\n",
    "v2 = v2.reset_index(drop=True)\n",
    "\n",
    "v2.head(1)"
   ],
   "metadata": {
    "collapsed": false,
    "is_executing": true,
    "ExecuteTime": {
     "start_time": "2023-05-26T22:00:14.673661Z"
    }
   }
  },
  {
   "cell_type": "markdown",
   "source": [
    "#### Creating Merged DF"
   ],
   "metadata": {
    "collapsed": false
   }
  },
  {
   "cell_type": "markdown",
   "source": [
    "Merge the two datasets based on the \"Company\" column"
   ],
   "metadata": {
    "collapsed": false
   }
  },
  {
   "cell_type": "code",
   "execution_count": 166,
   "outputs": [
    {
     "data": {
      "text/plain": "          Company                                           Action_x  \\\n0  1840 & Company  ['suspend', 'aesthetics', 'operations', ',', '...   \n\n    Industry_x      Country_x    Tone  \\\n0  Health Care  United States  paused   \n\n                                            Action_y   Industry_y  \\\n0  suspend aesthetics operations, pause new clini...  Health Care   \n\n       Country_y         INT  \n0  United States  7743855873  ",
      "text/html": "<div>\n<style scoped>\n    .dataframe tbody tr th:only-of-type {\n        vertical-align: middle;\n    }\n\n    .dataframe tbody tr th {\n        vertical-align: top;\n    }\n\n    .dataframe thead th {\n        text-align: right;\n    }\n</style>\n<table border=\"1\" class=\"dataframe\">\n  <thead>\n    <tr style=\"text-align: right;\">\n      <th></th>\n      <th>Company</th>\n      <th>Action_x</th>\n      <th>Industry_x</th>\n      <th>Country_x</th>\n      <th>Tone</th>\n      <th>Action_y</th>\n      <th>Industry_y</th>\n      <th>Country_y</th>\n      <th>INT</th>\n    </tr>\n  </thead>\n  <tbody>\n    <tr>\n      <th>0</th>\n      <td>1840 &amp; Company</td>\n      <td>['suspend', 'aesthetics', 'operations', ',', '...</td>\n      <td>Health Care</td>\n      <td>United States</td>\n      <td>paused</td>\n      <td>suspend aesthetics operations, pause new clini...</td>\n      <td>Health Care</td>\n      <td>United States</td>\n      <td>7743855873</td>\n    </tr>\n  </tbody>\n</table>\n</div>"
     },
     "execution_count": 166,
     "metadata": {},
     "output_type": "execute_result"
    }
   ],
   "source": [
    "merged = pd.merge(v3, v2, on='Company')\n",
    "\n",
    "merged.head(1)"
   ],
   "metadata": {
    "collapsed": false,
    "ExecuteTime": {
     "end_time": "2023-05-26T22:00:15.060009Z",
     "start_time": "2023-05-26T22:00:14.690167Z"
    }
   }
  },
  {
   "cell_type": "markdown",
   "source": [
    "Select the desired columns"
   ],
   "metadata": {
    "collapsed": false
   }
  },
  {
   "cell_type": "code",
   "execution_count": 167,
   "outputs": [
    {
     "data": {
      "text/plain": "          Company                                           Action_x  \\\n0  1840 & Company  ['suspend', 'aesthetics', 'operations', ',', '...   \n\n    Industry_x      Country_x    Tone         INT  \n0  Health Care  United States  paused  7743855873  ",
      "text/html": "<div>\n<style scoped>\n    .dataframe tbody tr th:only-of-type {\n        vertical-align: middle;\n    }\n\n    .dataframe tbody tr th {\n        vertical-align: top;\n    }\n\n    .dataframe thead th {\n        text-align: right;\n    }\n</style>\n<table border=\"1\" class=\"dataframe\">\n  <thead>\n    <tr style=\"text-align: right;\">\n      <th></th>\n      <th>Company</th>\n      <th>Action_x</th>\n      <th>Industry_x</th>\n      <th>Country_x</th>\n      <th>Tone</th>\n      <th>INT</th>\n    </tr>\n  </thead>\n  <tbody>\n    <tr>\n      <th>0</th>\n      <td>1840 &amp; Company</td>\n      <td>['suspend', 'aesthetics', 'operations', ',', '...</td>\n      <td>Health Care</td>\n      <td>United States</td>\n      <td>paused</td>\n      <td>7743855873</td>\n    </tr>\n  </tbody>\n</table>\n</div>"
     },
     "execution_count": 167,
     "metadata": {},
     "output_type": "execute_result"
    }
   ],
   "source": [
    "desired_columns = ['Company', 'Action_x', 'Industry_x', 'Country_x', 'Tone', 'INT']\n",
    "merged = merged[desired_columns]\n",
    "\n",
    "merged.head(1)"
   ],
   "metadata": {
    "collapsed": false,
    "ExecuteTime": {
     "end_time": "2023-05-26T22:00:15.104778Z",
     "start_time": "2023-05-26T22:00:14.707109Z"
    }
   }
  },
  {
   "cell_type": "markdown",
   "source": [
    "Rename the columns"
   ],
   "metadata": {
    "collapsed": false
   }
  },
  {
   "cell_type": "code",
   "execution_count": 168,
   "outputs": [
    {
     "data": {
      "text/plain": "          Company                                             Action  \\\n0  1840 & Company  ['suspend', 'aesthetics', 'operations', ',', '...   \n\n      Industry        Country    Tone         INT  \n0  Health Care  United States  paused  7743855873  ",
      "text/html": "<div>\n<style scoped>\n    .dataframe tbody tr th:only-of-type {\n        vertical-align: middle;\n    }\n\n    .dataframe tbody tr th {\n        vertical-align: top;\n    }\n\n    .dataframe thead th {\n        text-align: right;\n    }\n</style>\n<table border=\"1\" class=\"dataframe\">\n  <thead>\n    <tr style=\"text-align: right;\">\n      <th></th>\n      <th>Company</th>\n      <th>Action</th>\n      <th>Industry</th>\n      <th>Country</th>\n      <th>Tone</th>\n      <th>INT</th>\n    </tr>\n  </thead>\n  <tbody>\n    <tr>\n      <th>0</th>\n      <td>1840 &amp; Company</td>\n      <td>['suspend', 'aesthetics', 'operations', ',', '...</td>\n      <td>Health Care</td>\n      <td>United States</td>\n      <td>paused</td>\n      <td>7743855873</td>\n    </tr>\n  </tbody>\n</table>\n</div>"
     },
     "execution_count": 168,
     "metadata": {},
     "output_type": "execute_result"
    }
   ],
   "source": [
    "merged.columns = ['Company', 'Action', 'Industry', 'Country', 'Tone', 'INT']\n",
    "\n",
    "merged.head(1)"
   ],
   "metadata": {
    "collapsed": false,
    "ExecuteTime": {
     "end_time": "2023-05-26T22:00:15.113342Z",
     "start_time": "2023-05-26T22:00:14.728964Z"
    }
   }
  },
  {
   "cell_type": "markdown",
   "source": [
    "## Cleaning Component Tables (C-Tables)"
   ],
   "metadata": {
    "collapsed": false
   }
  },
  {
   "cell_type": "markdown",
   "source": [
    "#### Spark Interfax DF"
   ],
   "metadata": {
    "collapsed": false
   }
  },
  {
   "cell_type": "code",
   "execution_count": 169,
   "outputs": [
    {
     "data": {
      "text/plain": "   №     Наименование  Регистрационный номер Наименование на английском  \\\n0  1    3М ВОЛГА, ООО           1.121674e+12              3M VOLGA, OOO   \n1  2         CCC, ООО           1.198617e+12                OOO C, CJSC   \n2  3      WIX-SZ, ООО           1.133538e+12                WIX-SZ, OOO   \n3  4  А.С. ГРУПП, ООО           1.192375e+12            A.S. GROUP, LLC   \n4  5         АББ, ООО           1.027739e+12                   ABB, OOO   \n\n  Краткое наименование Дата регистрации Возраст компании, лет  \\\n0        ООО\"3М ВОЛГА\"       16.08.2012                  10,5   \n1            ООО \"CCC\"       18.06.2019                   3,5   \n2         ООО \"WIX-SZ\"       12.02.2013                  10,0   \n3     ООО \"А.С. ГРУПП\"       16.04.2019                   4,0   \n4            ООО \"АББ\"       13.12.2000                  22,0   \n\n   Код налогоплательщика                           Вид деятельности/отрасль  \\\n0             1646033450         Торговля оптовая прочими бытовыми товарами   \n1             8608060872  Строительство инженерных коммуникаций для водо...   \n2             3526030067  Работы строительные специализированные прочие,...   \n3             2310213891  Консультирование по вопросам коммерческой деят...   \n4             7727180430  Торговля оптовая производственным электротехни...   \n\n              Организационно-правовая форма  ... 2017, Выручка, RUB  \\\n0  Общества с ограниченной ответственностью  ...         13 300 000   \n1  Общества с ограниченной ответственностью  ...                NaN   \n2  Общества с ограниченной ответственностью  ...         18 049 000   \n3  Общества с ограниченной ответственностью  ...                NaN   \n4  Общества с ограниченной ответственностью  ...     21 012 268 000   \n\n  2018, Выручка, RUB 2019, Выручка, RUB 2020, Выручка, RUB 2021, Выручка, RUB  \\\n0        104 722 000        218 916 000         19 484 000        153 458 000   \n1                NaN                NaN         65 126 000         47 022 000   \n2         11 592 000          5 157 000         11 399 000         15 481 000   \n3                NaN          1 586 000          5 833 000                NaN   \n4     23 143 045 000     22 362 311 000     23 544 957 000     23 339 744 000   \n\n  2017, Прибыль (убыток) до налогообложения , RUB  \\\n0                                    -154 449 000   \n1                                             NaN   \n2                                         558 000   \n3                                             NaN   \n4                                   1 908 551 000   \n\n  2018, Прибыль (убыток) до налогообложения , RUB  \\\n0                                    -147 371 000   \n1                                             NaN   \n2                                         548 000   \n3                                             NaN   \n4                                   1 011 902 000   \n\n  2019, Прибыль (убыток) до налогообложения , RUB  \\\n0                                    -135 529 000   \n1                                        -381 000   \n2                                         279 000   \n3                                      -2 667 000   \n4                                   1 142 817 000   \n\n  2020, Прибыль (убыток) до налогообложения , RUB  \\\n0                                    -196 685 000   \n1                                       8 130 000   \n2                                         422 000   \n3                                        -914 000   \n4                                     -33 797 000   \n\n  2021, Прибыль (убыток) до налогообложения , RUB  \n0                                    -172 832 000  \n1                                         213 000  \n2                                         543 000  \n3                                             NaN  \n4                                   1 555 765 000  \n\n[5 rows x 28 columns]",
      "text/html": "<div>\n<style scoped>\n    .dataframe tbody tr th:only-of-type {\n        vertical-align: middle;\n    }\n\n    .dataframe tbody tr th {\n        vertical-align: top;\n    }\n\n    .dataframe thead th {\n        text-align: right;\n    }\n</style>\n<table border=\"1\" class=\"dataframe\">\n  <thead>\n    <tr style=\"text-align: right;\">\n      <th></th>\n      <th>№</th>\n      <th>Наименование</th>\n      <th>Регистрационный номер</th>\n      <th>Наименование на английском</th>\n      <th>Краткое наименование</th>\n      <th>Дата регистрации</th>\n      <th>Возраст компании, лет</th>\n      <th>Код налогоплательщика</th>\n      <th>Вид деятельности/отрасль</th>\n      <th>Организационно-правовая форма</th>\n      <th>...</th>\n      <th>2017, Выручка, RUB</th>\n      <th>2018, Выручка, RUB</th>\n      <th>2019, Выручка, RUB</th>\n      <th>2020, Выручка, RUB</th>\n      <th>2021, Выручка, RUB</th>\n      <th>2017, Прибыль (убыток) до налогообложения , RUB</th>\n      <th>2018, Прибыль (убыток) до налогообложения , RUB</th>\n      <th>2019, Прибыль (убыток) до налогообложения , RUB</th>\n      <th>2020, Прибыль (убыток) до налогообложения , RUB</th>\n      <th>2021, Прибыль (убыток) до налогообложения , RUB</th>\n    </tr>\n  </thead>\n  <tbody>\n    <tr>\n      <th>0</th>\n      <td>1</td>\n      <td>3М ВОЛГА, ООО</td>\n      <td>1.121674e+12</td>\n      <td>3M VOLGA, OOO</td>\n      <td>ООО\"3М ВОЛГА\"</td>\n      <td>16.08.2012</td>\n      <td>10,5</td>\n      <td>1646033450</td>\n      <td>Торговля оптовая прочими бытовыми товарами</td>\n      <td>Общества с ограниченной ответственностью</td>\n      <td>...</td>\n      <td>13 300 000</td>\n      <td>104 722 000</td>\n      <td>218 916 000</td>\n      <td>19 484 000</td>\n      <td>153 458 000</td>\n      <td>-154 449 000</td>\n      <td>-147 371 000</td>\n      <td>-135 529 000</td>\n      <td>-196 685 000</td>\n      <td>-172 832 000</td>\n    </tr>\n    <tr>\n      <th>1</th>\n      <td>2</td>\n      <td>CCC, ООО</td>\n      <td>1.198617e+12</td>\n      <td>OOO C, CJSC</td>\n      <td>ООО \"CCC\"</td>\n      <td>18.06.2019</td>\n      <td>3,5</td>\n      <td>8608060872</td>\n      <td>Строительство инженерных коммуникаций для водо...</td>\n      <td>Общества с ограниченной ответственностью</td>\n      <td>...</td>\n      <td>NaN</td>\n      <td>NaN</td>\n      <td>NaN</td>\n      <td>65 126 000</td>\n      <td>47 022 000</td>\n      <td>NaN</td>\n      <td>NaN</td>\n      <td>-381 000</td>\n      <td>8 130 000</td>\n      <td>213 000</td>\n    </tr>\n    <tr>\n      <th>2</th>\n      <td>3</td>\n      <td>WIX-SZ, ООО</td>\n      <td>1.133538e+12</td>\n      <td>WIX-SZ, OOO</td>\n      <td>ООО \"WIX-SZ\"</td>\n      <td>12.02.2013</td>\n      <td>10,0</td>\n      <td>3526030067</td>\n      <td>Работы строительные специализированные прочие,...</td>\n      <td>Общества с ограниченной ответственностью</td>\n      <td>...</td>\n      <td>18 049 000</td>\n      <td>11 592 000</td>\n      <td>5 157 000</td>\n      <td>11 399 000</td>\n      <td>15 481 000</td>\n      <td>558 000</td>\n      <td>548 000</td>\n      <td>279 000</td>\n      <td>422 000</td>\n      <td>543 000</td>\n    </tr>\n    <tr>\n      <th>3</th>\n      <td>4</td>\n      <td>А.С. ГРУПП, ООО</td>\n      <td>1.192375e+12</td>\n      <td>A.S. GROUP, LLC</td>\n      <td>ООО \"А.С. ГРУПП\"</td>\n      <td>16.04.2019</td>\n      <td>4,0</td>\n      <td>2310213891</td>\n      <td>Консультирование по вопросам коммерческой деят...</td>\n      <td>Общества с ограниченной ответственностью</td>\n      <td>...</td>\n      <td>NaN</td>\n      <td>NaN</td>\n      <td>1 586 000</td>\n      <td>5 833 000</td>\n      <td>NaN</td>\n      <td>NaN</td>\n      <td>NaN</td>\n      <td>-2 667 000</td>\n      <td>-914 000</td>\n      <td>NaN</td>\n    </tr>\n    <tr>\n      <th>4</th>\n      <td>5</td>\n      <td>АББ, ООО</td>\n      <td>1.027739e+12</td>\n      <td>ABB, OOO</td>\n      <td>ООО \"АББ\"</td>\n      <td>13.12.2000</td>\n      <td>22,0</td>\n      <td>7727180430</td>\n      <td>Торговля оптовая производственным электротехни...</td>\n      <td>Общества с ограниченной ответственностью</td>\n      <td>...</td>\n      <td>21 012 268 000</td>\n      <td>23 143 045 000</td>\n      <td>22 362 311 000</td>\n      <td>23 544 957 000</td>\n      <td>23 339 744 000</td>\n      <td>1 908 551 000</td>\n      <td>1 011 902 000</td>\n      <td>1 142 817 000</td>\n      <td>-33 797 000</td>\n      <td>1 555 765 000</td>\n    </tr>\n  </tbody>\n</table>\n<p>5 rows × 28 columns</p>\n</div>"
     },
     "execution_count": 169,
     "metadata": {},
     "output_type": "execute_result"
    }
   ],
   "source": [
    "spark.head()"
   ],
   "metadata": {
    "collapsed": false,
    "ExecuteTime": {
     "end_time": "2023-05-26T22:00:15.167745Z",
     "start_time": "2023-05-26T22:00:14.751421Z"
    }
   }
  },
  {
   "cell_type": "code",
   "execution_count": 170,
   "outputs": [
    {
     "data": {
      "text/plain": "(796, 28)"
     },
     "execution_count": 170,
     "metadata": {},
     "output_type": "execute_result"
    }
   ],
   "source": [
    "spark.shape"
   ],
   "metadata": {
    "collapsed": false,
    "ExecuteTime": {
     "end_time": "2023-05-26T22:00:15.167981Z",
     "start_time": "2023-05-26T22:00:14.756823Z"
    }
   }
  },
  {
   "cell_type": "code",
   "execution_count": 171,
   "outputs": [
    {
     "name": "stdout",
     "output_type": "stream",
     "text": [
      "Index(['Наименование на английском', 'Возраст компании, лет',\n",
      "       'Код налогоплательщика', 'Вид деятельности/отрасль',\n",
      "       'Организационно-правовая форма', 'Форма собственности',\n",
      "       'Размер компании', '2017, Среднесписочная численность работников',\n",
      "       '2018, Среднесписочная численность работников',\n",
      "       '2019, Среднесписочная численность работников',\n",
      "       '2020, Среднесписочная численность работников',\n",
      "       '2021, Среднесписочная численность работников', 'Мои списки',\n",
      "       '2017, Выручка, RUB', '2018, Выручка, RUB', '2019, Выручка, RUB',\n",
      "       '2020, Выручка, RUB', '2021, Выручка, RUB',\n",
      "       '2017, Прибыль (убыток) до налогообложения , RUB',\n",
      "       '2018, Прибыль (убыток) до налогообложения , RUB',\n",
      "       '2019, Прибыль (убыток) до налогообложения , RUB',\n",
      "       '2020, Прибыль (убыток) до налогообложения , RUB',\n",
      "       '2021, Прибыль (убыток) до налогообложения , RUB'],\n",
      "      dtype='object')\n"
     ]
    }
   ],
   "source": [
    "columns_to_drop = ['№', 'Наименование', 'Регистрационный номер', 'Краткое наименование', 'Дата регистрации']\n",
    "spark = spark.drop(columns_to_drop, axis=1)\n",
    "\n",
    "print(spark.columns)"
   ],
   "metadata": {
    "collapsed": false,
    "ExecuteTime": {
     "end_time": "2023-05-26T22:00:15.168225Z",
     "start_time": "2023-05-26T22:00:14.763244Z"
    }
   }
  },
  {
   "cell_type": "markdown",
   "source": [
    "Rename columns 'Наименование на английском' and 'Код налогоплательщика' to 'Company' and 'INT'"
   ],
   "metadata": {
    "collapsed": false
   }
  },
  {
   "cell_type": "code",
   "execution_count": 172,
   "outputs": [
    {
     "data": {
      "text/plain": "         Company Возраст компании, лет         INT  \\\n0  3M VOLGA, OOO                  10,5  1646033450   \n\n                     Вид деятельности/отрасль  \\\n0  Торговля оптовая прочими бытовыми товарами   \n\n              Организационно-правовая форма  \\\n0  Общества с ограниченной ответственностью   \n\n                         Форма собственности    Размер компании  \\\n0  Собственность иностранных юридических лиц  Малые предприятия   \n\n  2017, Среднесписочная численность работников  \\\n0                                            4   \n\n  2018, Среднесписочная численность работников  \\\n0                                            8   \n\n  2019, Среднесписочная численность работников  ... 2017, Выручка, RUB  \\\n0                                            7  ...         13 300 000   \n\n  2018, Выручка, RUB 2019, Выручка, RUB 2020, Выручка, RUB 2021, Выручка, RUB  \\\n0        104 722 000        218 916 000         19 484 000        153 458 000   \n\n  2017, Прибыль (убыток) до налогообложения , RUB  \\\n0                                    -154 449 000   \n\n  2018, Прибыль (убыток) до налогообложения , RUB  \\\n0                                    -147 371 000   \n\n  2019, Прибыль (убыток) до налогообложения , RUB  \\\n0                                    -135 529 000   \n\n  2020, Прибыль (убыток) до налогообложения , RUB  \\\n0                                    -196 685 000   \n\n  2021, Прибыль (убыток) до налогообложения , RUB  \n0                                    -172 832 000  \n\n[1 rows x 23 columns]",
      "text/html": "<div>\n<style scoped>\n    .dataframe tbody tr th:only-of-type {\n        vertical-align: middle;\n    }\n\n    .dataframe tbody tr th {\n        vertical-align: top;\n    }\n\n    .dataframe thead th {\n        text-align: right;\n    }\n</style>\n<table border=\"1\" class=\"dataframe\">\n  <thead>\n    <tr style=\"text-align: right;\">\n      <th></th>\n      <th>Company</th>\n      <th>Возраст компании, лет</th>\n      <th>INT</th>\n      <th>Вид деятельности/отрасль</th>\n      <th>Организационно-правовая форма</th>\n      <th>Форма собственности</th>\n      <th>Размер компании</th>\n      <th>2017, Среднесписочная численность работников</th>\n      <th>2018, Среднесписочная численность работников</th>\n      <th>2019, Среднесписочная численность работников</th>\n      <th>...</th>\n      <th>2017, Выручка, RUB</th>\n      <th>2018, Выручка, RUB</th>\n      <th>2019, Выручка, RUB</th>\n      <th>2020, Выручка, RUB</th>\n      <th>2021, Выручка, RUB</th>\n      <th>2017, Прибыль (убыток) до налогообложения , RUB</th>\n      <th>2018, Прибыль (убыток) до налогообложения , RUB</th>\n      <th>2019, Прибыль (убыток) до налогообложения , RUB</th>\n      <th>2020, Прибыль (убыток) до налогообложения , RUB</th>\n      <th>2021, Прибыль (убыток) до налогообложения , RUB</th>\n    </tr>\n  </thead>\n  <tbody>\n    <tr>\n      <th>0</th>\n      <td>3M VOLGA, OOO</td>\n      <td>10,5</td>\n      <td>1646033450</td>\n      <td>Торговля оптовая прочими бытовыми товарами</td>\n      <td>Общества с ограниченной ответственностью</td>\n      <td>Собственность иностранных юридических лиц</td>\n      <td>Малые предприятия</td>\n      <td>4</td>\n      <td>8</td>\n      <td>7</td>\n      <td>...</td>\n      <td>13 300 000</td>\n      <td>104 722 000</td>\n      <td>218 916 000</td>\n      <td>19 484 000</td>\n      <td>153 458 000</td>\n      <td>-154 449 000</td>\n      <td>-147 371 000</td>\n      <td>-135 529 000</td>\n      <td>-196 685 000</td>\n      <td>-172 832 000</td>\n    </tr>\n  </tbody>\n</table>\n<p>1 rows × 23 columns</p>\n</div>"
     },
     "execution_count": 172,
     "metadata": {},
     "output_type": "execute_result"
    }
   ],
   "source": [
    "spark = spark.rename(columns={\"Наименование на английском\": \"Company\"})\n",
    "spark = spark.rename(columns={\"Код налогоплательщика\": \"INT\"})\n",
    "# spark['Company'] = spark['Company'].str.lower()\n",
    "\n",
    "spark.head(1)"
   ],
   "metadata": {
    "collapsed": false,
    "ExecuteTime": {
     "end_time": "2023-05-26T22:00:15.169970Z",
     "start_time": "2023-05-26T22:00:14.772733Z"
    }
   }
  },
  {
   "cell_type": "markdown",
   "source": [
    "## Creating Main Working DF (Majors + C-Tables)"
   ],
   "metadata": {
    "collapsed": false
   }
  },
  {
   "cell_type": "code",
   "execution_count": 173,
   "outputs": [
    {
     "data": {
      "text/plain": "            Company_x                                             Action  \\\n0      1840 & Company  ['suspend', 'aesthetics', 'operations', ',', '...   \n1  3HC Semiconductors  ['some', 'clients', 'no', 'longer', 'supplied'...   \n2                  3M  ['suspend', 'supply', 'of', 'parts', 'and', 'd...   \n3                 AAK                 ['suspended', 'some', 'shipments']   \n4                 ABC          ['no', 'new', 'business', 'in', 'russia']   \n5            ABC News  ['suspend', 'new', 'investments', 'in', 'russia']   \n6                ACCA   ['suspend', 'new', 'investment', 'in', 'russia']   \n7               ADAMA  ['no', 'further', 'investments/clinical', 'tri...   \n8                 ADM  ['pause', 'all', 'new', 'capital', 'investment...   \n9                 ADP  ['no', 'new', 'russian', 'investments', ';', '...   \n\n                 Industry        Country      Tone         INT  \\\n0             Health Care  United States    paused  7743855873   \n1               Materials         France    leaved  3528103017   \n2             Industrials    Netherlands  continue  9704116463   \n3  Information Technology          Japan    leaved  7714391842   \n4  Consumer Discretionary        Austria    leaved  9715417769   \n5             Industrials  United States    paused  7728053385   \n6             Industrials         France    paused  7725704127   \n7             Health Care  United States    leaved  7701620453   \n8             Health Care    Switzerland    leaved  7705772224   \n9                  Energy        Austria    leaved  7728139307   \n\n                 Company_y Возраст компании, лет  \\\n0               EBBVI, OOO                  10,5   \n1                  ALS, AO                  17,5   \n2              AIRBUS, LLC                   1,0   \n3      FUDZHIFILM RUS, OOO                  29,0   \n4      HERZ GROUP RUS, LLC                   0,5   \n5         UPDK-KHAINS, OOO                  31,0   \n6    ID LOGISTIKS RUS, OOO                  12,5   \n7  MERCK LIFE SCIENCE, LLC                  17,5   \n8      NOVARTIS FARMA, OOO                  16,0   \n9                 OMV, OOO                  26,5   \n\n                            Вид деятельности/отрасль  \\\n0       Торговля оптовая фармацевтической продукцией   \n1                    Производство промышленных газов   \n2                Деятельность туристических агентств   \n3              Торговля оптовая неспециализированная   \n4  Торговля оптовая водопроводным и отопительным ...   \n5  Управление недвижимым имуществом за вознагражд...   \n6           Деятельность по складированию и хранению   \n7  Деятельность предпринимательских членских неко...   \n8       Торговля оптовая фармацевтической продукцией   \n9  Деятельность по финансовой аренде (лизингу/суб...   \n\n              Организационно-правовая форма  ... 2017, Выручка, RUB  \\\n0  Общества с ограниченной ответственностью  ...     10 254 588 000   \n1          Непубличные акционерные общества  ...      4 241 597 000   \n2  Общества с ограниченной ответственностью  ...                NaN   \n3  Общества с ограниченной ответственностью  ...      3 178 782 000   \n4  Общества с ограниченной ответственностью  ...                NaN   \n5  Общества с ограниченной ответственностью  ...                NaN   \n6  Общества с ограниченной ответственностью  ...      1 230 715 000   \n7  Общества с ограниченной ответственностью  ...        502 171 000   \n8  Общества с ограниченной ответственностью  ...     18 184 446 000   \n9  Общества с ограниченной ответственностью  ...          4 295 000   \n\n  2018, Выручка, RUB 2019, Выручка, RUB 2020, Выручка, RUB 2021, Выручка, RUB  \\\n0      9 951 071 000     10 208 217 000     11 038 418 000     10 107 069 000   \n1      4 085 493 000      4 219 756 000      4 261 008 000      3 935 799 000   \n2                NaN                NaN                NaN                NaN   \n3      3 672 729 000      2 898 280 000      2 800 149 000      3 410 160 000   \n4                NaN                NaN                NaN                NaN   \n5                NaN                NaN                NaN                NaN   \n6      1 627 697 000      2 572 849 000      2 239 789 000      2 639 568 000   \n7        780 527 000        831 842 000      1 349 847 000      1 831 439 000   \n8     21 894 506 000     28 138 077 000     31 854 990 000     39 722 228 000   \n9          3 292 000          5 660 000          7 350 000          7 103 000   \n\n  2017, Прибыль (убыток) до налогообложения , RUB  \\\n0                                      39 767 000   \n1                                   1 758 438 000   \n2                                             NaN   \n3                                     117 504 000   \n4                                             NaN   \n5                                         -27 000   \n6                                      80 349 000   \n7                                     102 374 000   \n8                                     -46 362 000   \n9                                         -58 000   \n\n  2018, Прибыль (убыток) до налогообложения , RUB  \\\n0                                     115 612 000   \n1                                   1 923 752 000   \n2                                             NaN   \n3                                      49 294 000   \n4                                             NaN   \n5                                        -657 000   \n6                                     -79 454 000   \n7                                      91 240 000   \n8                                     991 082 000   \n9                                      -3 088 000   \n\n  2019, Прибыль (убыток) до налогообложения , RUB  \\\n0                                     -98 477 000   \n1                                   2 082 180 000   \n2                                             NaN   \n3                                     188 041 000   \n4                                             NaN   \n5                                        -473 000   \n6                                    -168 129 000   \n7                                      54 501 000   \n8                                     161 520 000   \n9                                         845 000   \n\n  2020, Прибыль (убыток) до налогообложения , RUB  \\\n0                                     436 625 000   \n1                                   2 148 197 000   \n2                                             NaN   \n3                                     265 433 000   \n4                                             NaN   \n5                                        -115 000   \n6                                      65 183 000   \n7                                     306 309 000   \n8                                      88 970 000   \n9                                       2 063 000   \n\n  2021, Прибыль (убыток) до налогообложения , RUB  \n0                                     492 786 000  \n1                                   2 038 560 000  \n2                                             NaN  \n3                                     446 284 000  \n4                                             NaN  \n5                                         -83 000  \n6                                     140 244 000  \n7                                     346 203 000  \n8                                     559 463 000  \n9                                       1 690 000  \n\n[10 rows x 28 columns]",
      "text/html": "<div>\n<style scoped>\n    .dataframe tbody tr th:only-of-type {\n        vertical-align: middle;\n    }\n\n    .dataframe tbody tr th {\n        vertical-align: top;\n    }\n\n    .dataframe thead th {\n        text-align: right;\n    }\n</style>\n<table border=\"1\" class=\"dataframe\">\n  <thead>\n    <tr style=\"text-align: right;\">\n      <th></th>\n      <th>Company_x</th>\n      <th>Action</th>\n      <th>Industry</th>\n      <th>Country</th>\n      <th>Tone</th>\n      <th>INT</th>\n      <th>Company_y</th>\n      <th>Возраст компании, лет</th>\n      <th>Вид деятельности/отрасль</th>\n      <th>Организационно-правовая форма</th>\n      <th>...</th>\n      <th>2017, Выручка, RUB</th>\n      <th>2018, Выручка, RUB</th>\n      <th>2019, Выручка, RUB</th>\n      <th>2020, Выручка, RUB</th>\n      <th>2021, Выручка, RUB</th>\n      <th>2017, Прибыль (убыток) до налогообложения , RUB</th>\n      <th>2018, Прибыль (убыток) до налогообложения , RUB</th>\n      <th>2019, Прибыль (убыток) до налогообложения , RUB</th>\n      <th>2020, Прибыль (убыток) до налогообложения , RUB</th>\n      <th>2021, Прибыль (убыток) до налогообложения , RUB</th>\n    </tr>\n  </thead>\n  <tbody>\n    <tr>\n      <th>0</th>\n      <td>1840 &amp; Company</td>\n      <td>['suspend', 'aesthetics', 'operations', ',', '...</td>\n      <td>Health Care</td>\n      <td>United States</td>\n      <td>paused</td>\n      <td>7743855873</td>\n      <td>EBBVI, OOO</td>\n      <td>10,5</td>\n      <td>Торговля оптовая фармацевтической продукцией</td>\n      <td>Общества с ограниченной ответственностью</td>\n      <td>...</td>\n      <td>10 254 588 000</td>\n      <td>9 951 071 000</td>\n      <td>10 208 217 000</td>\n      <td>11 038 418 000</td>\n      <td>10 107 069 000</td>\n      <td>39 767 000</td>\n      <td>115 612 000</td>\n      <td>-98 477 000</td>\n      <td>436 625 000</td>\n      <td>492 786 000</td>\n    </tr>\n    <tr>\n      <th>1</th>\n      <td>3HC Semiconductors</td>\n      <td>['some', 'clients', 'no', 'longer', 'supplied'...</td>\n      <td>Materials</td>\n      <td>France</td>\n      <td>leaved</td>\n      <td>3528103017</td>\n      <td>ALS, AO</td>\n      <td>17,5</td>\n      <td>Производство промышленных газов</td>\n      <td>Непубличные акционерные общества</td>\n      <td>...</td>\n      <td>4 241 597 000</td>\n      <td>4 085 493 000</td>\n      <td>4 219 756 000</td>\n      <td>4 261 008 000</td>\n      <td>3 935 799 000</td>\n      <td>1 758 438 000</td>\n      <td>1 923 752 000</td>\n      <td>2 082 180 000</td>\n      <td>2 148 197 000</td>\n      <td>2 038 560 000</td>\n    </tr>\n    <tr>\n      <th>2</th>\n      <td>3M</td>\n      <td>['suspend', 'supply', 'of', 'parts', 'and', 'd...</td>\n      <td>Industrials</td>\n      <td>Netherlands</td>\n      <td>continue</td>\n      <td>9704116463</td>\n      <td>AIRBUS, LLC</td>\n      <td>1,0</td>\n      <td>Деятельность туристических агентств</td>\n      <td>Общества с ограниченной ответственностью</td>\n      <td>...</td>\n      <td>NaN</td>\n      <td>NaN</td>\n      <td>NaN</td>\n      <td>NaN</td>\n      <td>NaN</td>\n      <td>NaN</td>\n      <td>NaN</td>\n      <td>NaN</td>\n      <td>NaN</td>\n      <td>NaN</td>\n    </tr>\n    <tr>\n      <th>3</th>\n      <td>AAK</td>\n      <td>['suspended', 'some', 'shipments']</td>\n      <td>Information Technology</td>\n      <td>Japan</td>\n      <td>leaved</td>\n      <td>7714391842</td>\n      <td>FUDZHIFILM RUS, OOO</td>\n      <td>29,0</td>\n      <td>Торговля оптовая неспециализированная</td>\n      <td>Общества с ограниченной ответственностью</td>\n      <td>...</td>\n      <td>3 178 782 000</td>\n      <td>3 672 729 000</td>\n      <td>2 898 280 000</td>\n      <td>2 800 149 000</td>\n      <td>3 410 160 000</td>\n      <td>117 504 000</td>\n      <td>49 294 000</td>\n      <td>188 041 000</td>\n      <td>265 433 000</td>\n      <td>446 284 000</td>\n    </tr>\n    <tr>\n      <th>4</th>\n      <td>ABC</td>\n      <td>['no', 'new', 'business', 'in', 'russia']</td>\n      <td>Consumer Discretionary</td>\n      <td>Austria</td>\n      <td>leaved</td>\n      <td>9715417769</td>\n      <td>HERZ GROUP RUS, LLC</td>\n      <td>0,5</td>\n      <td>Торговля оптовая водопроводным и отопительным ...</td>\n      <td>Общества с ограниченной ответственностью</td>\n      <td>...</td>\n      <td>NaN</td>\n      <td>NaN</td>\n      <td>NaN</td>\n      <td>NaN</td>\n      <td>NaN</td>\n      <td>NaN</td>\n      <td>NaN</td>\n      <td>NaN</td>\n      <td>NaN</td>\n      <td>NaN</td>\n    </tr>\n    <tr>\n      <th>5</th>\n      <td>ABC News</td>\n      <td>['suspend', 'new', 'investments', 'in', 'russia']</td>\n      <td>Industrials</td>\n      <td>United States</td>\n      <td>paused</td>\n      <td>7728053385</td>\n      <td>UPDK-KHAINS, OOO</td>\n      <td>31,0</td>\n      <td>Управление недвижимым имуществом за вознагражд...</td>\n      <td>Общества с ограниченной ответственностью</td>\n      <td>...</td>\n      <td>NaN</td>\n      <td>NaN</td>\n      <td>NaN</td>\n      <td>NaN</td>\n      <td>NaN</td>\n      <td>-27 000</td>\n      <td>-657 000</td>\n      <td>-473 000</td>\n      <td>-115 000</td>\n      <td>-83 000</td>\n    </tr>\n    <tr>\n      <th>6</th>\n      <td>ACCA</td>\n      <td>['suspend', 'new', 'investment', 'in', 'russia']</td>\n      <td>Industrials</td>\n      <td>France</td>\n      <td>paused</td>\n      <td>7725704127</td>\n      <td>ID LOGISTIKS RUS, OOO</td>\n      <td>12,5</td>\n      <td>Деятельность по складированию и хранению</td>\n      <td>Общества с ограниченной ответственностью</td>\n      <td>...</td>\n      <td>1 230 715 000</td>\n      <td>1 627 697 000</td>\n      <td>2 572 849 000</td>\n      <td>2 239 789 000</td>\n      <td>2 639 568 000</td>\n      <td>80 349 000</td>\n      <td>-79 454 000</td>\n      <td>-168 129 000</td>\n      <td>65 183 000</td>\n      <td>140 244 000</td>\n    </tr>\n    <tr>\n      <th>7</th>\n      <td>ADAMA</td>\n      <td>['no', 'further', 'investments/clinical', 'tri...</td>\n      <td>Health Care</td>\n      <td>United States</td>\n      <td>leaved</td>\n      <td>7701620453</td>\n      <td>MERCK LIFE SCIENCE, LLC</td>\n      <td>17,5</td>\n      <td>Деятельность предпринимательских членских неко...</td>\n      <td>Общества с ограниченной ответственностью</td>\n      <td>...</td>\n      <td>502 171 000</td>\n      <td>780 527 000</td>\n      <td>831 842 000</td>\n      <td>1 349 847 000</td>\n      <td>1 831 439 000</td>\n      <td>102 374 000</td>\n      <td>91 240 000</td>\n      <td>54 501 000</td>\n      <td>306 309 000</td>\n      <td>346 203 000</td>\n    </tr>\n    <tr>\n      <th>8</th>\n      <td>ADM</td>\n      <td>['pause', 'all', 'new', 'capital', 'investment...</td>\n      <td>Health Care</td>\n      <td>Switzerland</td>\n      <td>leaved</td>\n      <td>7705772224</td>\n      <td>NOVARTIS FARMA, OOO</td>\n      <td>16,0</td>\n      <td>Торговля оптовая фармацевтической продукцией</td>\n      <td>Общества с ограниченной ответственностью</td>\n      <td>...</td>\n      <td>18 184 446 000</td>\n      <td>21 894 506 000</td>\n      <td>28 138 077 000</td>\n      <td>31 854 990 000</td>\n      <td>39 722 228 000</td>\n      <td>-46 362 000</td>\n      <td>991 082 000</td>\n      <td>161 520 000</td>\n      <td>88 970 000</td>\n      <td>559 463 000</td>\n    </tr>\n    <tr>\n      <th>9</th>\n      <td>ADP</td>\n      <td>['no', 'new', 'russian', 'investments', ';', '...</td>\n      <td>Energy</td>\n      <td>Austria</td>\n      <td>leaved</td>\n      <td>7728139307</td>\n      <td>OMV, OOO</td>\n      <td>26,5</td>\n      <td>Деятельность по финансовой аренде (лизингу/суб...</td>\n      <td>Общества с ограниченной ответственностью</td>\n      <td>...</td>\n      <td>4 295 000</td>\n      <td>3 292 000</td>\n      <td>5 660 000</td>\n      <td>7 350 000</td>\n      <td>7 103 000</td>\n      <td>-58 000</td>\n      <td>-3 088 000</td>\n      <td>845 000</td>\n      <td>2 063 000</td>\n      <td>1 690 000</td>\n    </tr>\n  </tbody>\n</table>\n<p>10 rows × 28 columns</p>\n</div>"
     },
     "execution_count": 173,
     "metadata": {},
     "output_type": "execute_result"
    }
   ],
   "source": [
    "df = merged.merge(spark, on='INT')\n",
    "\n",
    "df.head(10)"
   ],
   "metadata": {
    "collapsed": false,
    "ExecuteTime": {
     "end_time": "2023-05-26T22:00:15.170259Z",
     "start_time": "2023-05-26T22:00:14.798423Z"
    }
   }
  },
  {
   "cell_type": "code",
   "execution_count": 174,
   "outputs": [
    {
     "data": {
      "text/plain": "                   Company                Industry        Country  \\\n0               EBBVI, OOO             Health Care  United States   \n1                  ALS, AO               Materials         France   \n2              AIRBUS, LLC             Industrials    Netherlands   \n3      FUDZHIFILM RUS, OOO  Information Technology          Japan   \n4      HERZ GROUP RUS, LLC  Consumer Discretionary        Austria   \n5         UPDK-KHAINS, OOO             Industrials  United States   \n6    ID LOGISTIKS RUS, OOO             Industrials         France   \n7  MERCK LIFE SCIENCE, LLC             Health Care  United States   \n8      NOVARTIS FARMA, OOO             Health Care    Switzerland   \n9                 OMV, OOO                  Energy        Austria   \n\n                                              Action      Tone  \\\n0  ['suspend', 'aesthetics', 'operations', ',', '...    paused   \n1  ['some', 'clients', 'no', 'longer', 'supplied'...    leaved   \n2  ['suspend', 'supply', 'of', 'parts', 'and', 'd...  continue   \n3                 ['suspended', 'some', 'shipments']    leaved   \n4          ['no', 'new', 'business', 'in', 'russia']    leaved   \n5  ['suspend', 'new', 'investments', 'in', 'russia']    paused   \n6   ['suspend', 'new', 'investment', 'in', 'russia']    paused   \n7  ['no', 'further', 'investments/clinical', 'tri...    leaved   \n8  ['pause', 'all', 'new', 'capital', 'investment...    leaved   \n9  ['no', 'new', 'russian', 'investments', ';', '...    leaved   \n\n  Возраст компании, лет                           Вид деятельности/отрасль  \\\n0                  10,5       Торговля оптовая фармацевтической продукцией   \n1                  17,5                    Производство промышленных газов   \n2                   1,0                Деятельность туристических агентств   \n3                  29,0              Торговля оптовая неспециализированная   \n4                   0,5  Торговля оптовая водопроводным и отопительным ...   \n5                  31,0  Управление недвижимым имуществом за вознагражд...   \n6                  12,5           Деятельность по складированию и хранению   \n7                  17,5  Деятельность предпринимательских членских неко...   \n8                  16,0       Торговля оптовая фармацевтической продукцией   \n9                  26,5  Деятельность по финансовой аренде (лизингу/суб...   \n\n              Организационно-правовая форма  \\\n0  Общества с ограниченной ответственностью   \n1          Непубличные акционерные общества   \n2  Общества с ограниченной ответственностью   \n3  Общества с ограниченной ответственностью   \n4  Общества с ограниченной ответственностью   \n5  Общества с ограниченной ответственностью   \n6  Общества с ограниченной ответственностью   \n7  Общества с ограниченной ответственностью   \n8  Общества с ограниченной ответственностью   \n9  Общества с ограниченной ответственностью   \n\n                              Форма собственности      Размер компании  \\\n0       Собственность иностранных юридических лиц  Крупные предприятия   \n1  Совместная частная и иностранная собственность  Крупные предприятия   \n2                           Частная собственность                  NaN   \n3       Собственность иностранных юридических лиц  Крупные предприятия   \n4                           Частная собственность                  NaN   \n5                       Федеральная собственность                  NaN   \n6       Собственность иностранных юридических лиц  Крупные предприятия   \n7       Собственность иностранных юридических лиц  Средние предприятия   \n8       Собственность иностранных юридических лиц  Крупные предприятия   \n9                           Частная собственность     Микропредприятия   \n\n  2017, Выручка, RUB 2018, Выручка, RUB 2019, Выручка, RUB 2020, Выручка, RUB  \\\n0     10 254 588 000      9 951 071 000     10 208 217 000     11 038 418 000   \n1      4 241 597 000      4 085 493 000      4 219 756 000      4 261 008 000   \n2                NaN                NaN                NaN                NaN   \n3      3 178 782 000      3 672 729 000      2 898 280 000      2 800 149 000   \n4                NaN                NaN                NaN                NaN   \n5                NaN                NaN                NaN                NaN   \n6      1 230 715 000      1 627 697 000      2 572 849 000      2 239 789 000   \n7        502 171 000        780 527 000        831 842 000      1 349 847 000   \n8     18 184 446 000     21 894 506 000     28 138 077 000     31 854 990 000   \n9          4 295 000          3 292 000          5 660 000          7 350 000   \n\n  2021, Выручка, RUB 2017, Прибыль (убыток) до налогообложения , RUB  \\\n0     10 107 069 000                                      39 767 000   \n1      3 935 799 000                                   1 758 438 000   \n2                NaN                                             NaN   \n3      3 410 160 000                                     117 504 000   \n4                NaN                                             NaN   \n5                NaN                                         -27 000   \n6      2 639 568 000                                      80 349 000   \n7      1 831 439 000                                     102 374 000   \n8     39 722 228 000                                     -46 362 000   \n9          7 103 000                                         -58 000   \n\n  2018, Прибыль (убыток) до налогообложения , RUB  \\\n0                                     115 612 000   \n1                                   1 923 752 000   \n2                                             NaN   \n3                                      49 294 000   \n4                                             NaN   \n5                                        -657 000   \n6                                     -79 454 000   \n7                                      91 240 000   \n8                                     991 082 000   \n9                                      -3 088 000   \n\n  2019, Прибыль (убыток) до налогообложения , RUB  \\\n0                                     -98 477 000   \n1                                   2 082 180 000   \n2                                             NaN   \n3                                     188 041 000   \n4                                             NaN   \n5                                        -473 000   \n6                                    -168 129 000   \n7                                      54 501 000   \n8                                     161 520 000   \n9                                         845 000   \n\n  2020, Прибыль (убыток) до налогообложения , RUB  \\\n0                                     436 625 000   \n1                                   2 148 197 000   \n2                                             NaN   \n3                                     265 433 000   \n4                                             NaN   \n5                                        -115 000   \n6                                      65 183 000   \n7                                     306 309 000   \n8                                      88 970 000   \n9                                       2 063 000   \n\n  2021, Прибыль (убыток) до налогообложения , RUB  \n0                                     492 786 000  \n1                                   2 038 560 000  \n2                                             NaN  \n3                                     446 284 000  \n4                                             NaN  \n5                                         -83 000  \n6                                     140 244 000  \n7                                     346 203 000  \n8                                     559 463 000  \n9                                       1 690 000  ",
      "text/html": "<div>\n<style scoped>\n    .dataframe tbody tr th:only-of-type {\n        vertical-align: middle;\n    }\n\n    .dataframe tbody tr th {\n        vertical-align: top;\n    }\n\n    .dataframe thead th {\n        text-align: right;\n    }\n</style>\n<table border=\"1\" class=\"dataframe\">\n  <thead>\n    <tr style=\"text-align: right;\">\n      <th></th>\n      <th>Company</th>\n      <th>Industry</th>\n      <th>Country</th>\n      <th>Action</th>\n      <th>Tone</th>\n      <th>Возраст компании, лет</th>\n      <th>Вид деятельности/отрасль</th>\n      <th>Организационно-правовая форма</th>\n      <th>Форма собственности</th>\n      <th>Размер компании</th>\n      <th>2017, Выручка, RUB</th>\n      <th>2018, Выручка, RUB</th>\n      <th>2019, Выручка, RUB</th>\n      <th>2020, Выручка, RUB</th>\n      <th>2021, Выручка, RUB</th>\n      <th>2017, Прибыль (убыток) до налогообложения , RUB</th>\n      <th>2018, Прибыль (убыток) до налогообложения , RUB</th>\n      <th>2019, Прибыль (убыток) до налогообложения , RUB</th>\n      <th>2020, Прибыль (убыток) до налогообложения , RUB</th>\n      <th>2021, Прибыль (убыток) до налогообложения , RUB</th>\n    </tr>\n  </thead>\n  <tbody>\n    <tr>\n      <th>0</th>\n      <td>EBBVI, OOO</td>\n      <td>Health Care</td>\n      <td>United States</td>\n      <td>['suspend', 'aesthetics', 'operations', ',', '...</td>\n      <td>paused</td>\n      <td>10,5</td>\n      <td>Торговля оптовая фармацевтической продукцией</td>\n      <td>Общества с ограниченной ответственностью</td>\n      <td>Собственность иностранных юридических лиц</td>\n      <td>Крупные предприятия</td>\n      <td>10 254 588 000</td>\n      <td>9 951 071 000</td>\n      <td>10 208 217 000</td>\n      <td>11 038 418 000</td>\n      <td>10 107 069 000</td>\n      <td>39 767 000</td>\n      <td>115 612 000</td>\n      <td>-98 477 000</td>\n      <td>436 625 000</td>\n      <td>492 786 000</td>\n    </tr>\n    <tr>\n      <th>1</th>\n      <td>ALS, AO</td>\n      <td>Materials</td>\n      <td>France</td>\n      <td>['some', 'clients', 'no', 'longer', 'supplied'...</td>\n      <td>leaved</td>\n      <td>17,5</td>\n      <td>Производство промышленных газов</td>\n      <td>Непубличные акционерные общества</td>\n      <td>Совместная частная и иностранная собственность</td>\n      <td>Крупные предприятия</td>\n      <td>4 241 597 000</td>\n      <td>4 085 493 000</td>\n      <td>4 219 756 000</td>\n      <td>4 261 008 000</td>\n      <td>3 935 799 000</td>\n      <td>1 758 438 000</td>\n      <td>1 923 752 000</td>\n      <td>2 082 180 000</td>\n      <td>2 148 197 000</td>\n      <td>2 038 560 000</td>\n    </tr>\n    <tr>\n      <th>2</th>\n      <td>AIRBUS, LLC</td>\n      <td>Industrials</td>\n      <td>Netherlands</td>\n      <td>['suspend', 'supply', 'of', 'parts', 'and', 'd...</td>\n      <td>continue</td>\n      <td>1,0</td>\n      <td>Деятельность туристических агентств</td>\n      <td>Общества с ограниченной ответственностью</td>\n      <td>Частная собственность</td>\n      <td>NaN</td>\n      <td>NaN</td>\n      <td>NaN</td>\n      <td>NaN</td>\n      <td>NaN</td>\n      <td>NaN</td>\n      <td>NaN</td>\n      <td>NaN</td>\n      <td>NaN</td>\n      <td>NaN</td>\n      <td>NaN</td>\n    </tr>\n    <tr>\n      <th>3</th>\n      <td>FUDZHIFILM RUS, OOO</td>\n      <td>Information Technology</td>\n      <td>Japan</td>\n      <td>['suspended', 'some', 'shipments']</td>\n      <td>leaved</td>\n      <td>29,0</td>\n      <td>Торговля оптовая неспециализированная</td>\n      <td>Общества с ограниченной ответственностью</td>\n      <td>Собственность иностранных юридических лиц</td>\n      <td>Крупные предприятия</td>\n      <td>3 178 782 000</td>\n      <td>3 672 729 000</td>\n      <td>2 898 280 000</td>\n      <td>2 800 149 000</td>\n      <td>3 410 160 000</td>\n      <td>117 504 000</td>\n      <td>49 294 000</td>\n      <td>188 041 000</td>\n      <td>265 433 000</td>\n      <td>446 284 000</td>\n    </tr>\n    <tr>\n      <th>4</th>\n      <td>HERZ GROUP RUS, LLC</td>\n      <td>Consumer Discretionary</td>\n      <td>Austria</td>\n      <td>['no', 'new', 'business', 'in', 'russia']</td>\n      <td>leaved</td>\n      <td>0,5</td>\n      <td>Торговля оптовая водопроводным и отопительным ...</td>\n      <td>Общества с ограниченной ответственностью</td>\n      <td>Частная собственность</td>\n      <td>NaN</td>\n      <td>NaN</td>\n      <td>NaN</td>\n      <td>NaN</td>\n      <td>NaN</td>\n      <td>NaN</td>\n      <td>NaN</td>\n      <td>NaN</td>\n      <td>NaN</td>\n      <td>NaN</td>\n      <td>NaN</td>\n    </tr>\n    <tr>\n      <th>5</th>\n      <td>UPDK-KHAINS, OOO</td>\n      <td>Industrials</td>\n      <td>United States</td>\n      <td>['suspend', 'new', 'investments', 'in', 'russia']</td>\n      <td>paused</td>\n      <td>31,0</td>\n      <td>Управление недвижимым имуществом за вознагражд...</td>\n      <td>Общества с ограниченной ответственностью</td>\n      <td>Федеральная собственность</td>\n      <td>NaN</td>\n      <td>NaN</td>\n      <td>NaN</td>\n      <td>NaN</td>\n      <td>NaN</td>\n      <td>NaN</td>\n      <td>-27 000</td>\n      <td>-657 000</td>\n      <td>-473 000</td>\n      <td>-115 000</td>\n      <td>-83 000</td>\n    </tr>\n    <tr>\n      <th>6</th>\n      <td>ID LOGISTIKS RUS, OOO</td>\n      <td>Industrials</td>\n      <td>France</td>\n      <td>['suspend', 'new', 'investment', 'in', 'russia']</td>\n      <td>paused</td>\n      <td>12,5</td>\n      <td>Деятельность по складированию и хранению</td>\n      <td>Общества с ограниченной ответственностью</td>\n      <td>Собственность иностранных юридических лиц</td>\n      <td>Крупные предприятия</td>\n      <td>1 230 715 000</td>\n      <td>1 627 697 000</td>\n      <td>2 572 849 000</td>\n      <td>2 239 789 000</td>\n      <td>2 639 568 000</td>\n      <td>80 349 000</td>\n      <td>-79 454 000</td>\n      <td>-168 129 000</td>\n      <td>65 183 000</td>\n      <td>140 244 000</td>\n    </tr>\n    <tr>\n      <th>7</th>\n      <td>MERCK LIFE SCIENCE, LLC</td>\n      <td>Health Care</td>\n      <td>United States</td>\n      <td>['no', 'further', 'investments/clinical', 'tri...</td>\n      <td>leaved</td>\n      <td>17,5</td>\n      <td>Деятельность предпринимательских членских неко...</td>\n      <td>Общества с ограниченной ответственностью</td>\n      <td>Собственность иностранных юридических лиц</td>\n      <td>Средние предприятия</td>\n      <td>502 171 000</td>\n      <td>780 527 000</td>\n      <td>831 842 000</td>\n      <td>1 349 847 000</td>\n      <td>1 831 439 000</td>\n      <td>102 374 000</td>\n      <td>91 240 000</td>\n      <td>54 501 000</td>\n      <td>306 309 000</td>\n      <td>346 203 000</td>\n    </tr>\n    <tr>\n      <th>8</th>\n      <td>NOVARTIS FARMA, OOO</td>\n      <td>Health Care</td>\n      <td>Switzerland</td>\n      <td>['pause', 'all', 'new', 'capital', 'investment...</td>\n      <td>leaved</td>\n      <td>16,0</td>\n      <td>Торговля оптовая фармацевтической продукцией</td>\n      <td>Общества с ограниченной ответственностью</td>\n      <td>Собственность иностранных юридических лиц</td>\n      <td>Крупные предприятия</td>\n      <td>18 184 446 000</td>\n      <td>21 894 506 000</td>\n      <td>28 138 077 000</td>\n      <td>31 854 990 000</td>\n      <td>39 722 228 000</td>\n      <td>-46 362 000</td>\n      <td>991 082 000</td>\n      <td>161 520 000</td>\n      <td>88 970 000</td>\n      <td>559 463 000</td>\n    </tr>\n    <tr>\n      <th>9</th>\n      <td>OMV, OOO</td>\n      <td>Energy</td>\n      <td>Austria</td>\n      <td>['no', 'new', 'russian', 'investments', ';', '...</td>\n      <td>leaved</td>\n      <td>26,5</td>\n      <td>Деятельность по финансовой аренде (лизингу/суб...</td>\n      <td>Общества с ограниченной ответственностью</td>\n      <td>Частная собственность</td>\n      <td>Микропредприятия</td>\n      <td>4 295 000</td>\n      <td>3 292 000</td>\n      <td>5 660 000</td>\n      <td>7 350 000</td>\n      <td>7 103 000</td>\n      <td>-58 000</td>\n      <td>-3 088 000</td>\n      <td>845 000</td>\n      <td>2 063 000</td>\n      <td>1 690 000</td>\n    </tr>\n  </tbody>\n</table>\n</div>"
     },
     "execution_count": 174,
     "metadata": {},
     "output_type": "execute_result"
    }
   ],
   "source": [
    "df = df.rename(columns={\"Company_y\": \"Company\"})\n",
    "\n",
    "df = df.drop({'Company_x', 'INT',\n",
    "                            '2017, Среднесписочная численность работников',\n",
    "                            '2018, Среднесписочная численность работников',\n",
    "                            '2019, Среднесписочная численность работников',\n",
    "                            '2020, Среднесписочная численность работников',\n",
    "                            '2021, Среднесписочная численность работников',\n",
    "                            'Мои списки'}, axis=1)\n",
    "\n",
    "df = df[['Company', 'Industry', 'Country', 'Action', 'Tone', 'Возраст компании, лет',\n",
    "                       'Вид деятельности/отрасль', 'Организационно-правовая форма',\n",
    "                       'Форма собственности', 'Размер компании', '2017, Выручка, RUB',\n",
    "                       '2018, Выручка, RUB', '2019, Выручка, RUB', '2020, Выручка, RUB',\n",
    "                       '2021, Выручка, RUB', '2017, Прибыль (убыток) до налогообложения , RUB',\n",
    "                       '2018, Прибыль (убыток) до налогообложения , RUB',\n",
    "                       '2019, Прибыль (убыток) до налогообложения , RUB',\n",
    "                       '2020, Прибыль (убыток) до налогообложения , RUB',\n",
    "                       '2021, Прибыль (убыток) до налогообложения , RUB']]\n",
    "\n",
    "df.head(10)"
   ],
   "metadata": {
    "collapsed": false,
    "ExecuteTime": {
     "end_time": "2023-05-26T22:00:15.171300Z",
     "start_time": "2023-05-26T22:00:14.826564Z"
    }
   }
  },
  {
   "cell_type": "markdown",
   "source": [
    "The column 'Возраст компании, лет' is of string datatype. To make it float datatype, we replace , with ."
   ],
   "metadata": {
    "collapsed": false
   }
  },
  {
   "cell_type": "code",
   "execution_count": 175,
   "outputs": [],
   "source": [
    "if df['Возраст компании, лет'].dtype == object:\n",
    "    # Replace commas with periods in the column\n",
    "    df['Возраст компании, лет'] = df['Возраст компании, лет'].str.replace(',', '.')\n",
    "df['Возраст компании, лет'] = df['Возраст компании, лет'].astype(float)"
   ],
   "metadata": {
    "collapsed": false,
    "ExecuteTime": {
     "end_time": "2023-05-26T22:00:15.171440Z",
     "start_time": "2023-05-26T22:00:14.863368Z"
    }
   }
  },
  {
   "cell_type": "markdown",
   "source": [
    "Some columns has big number with spaces, therefore they are of a string type.  To make them float datatype, we delete all unnecassary spaces"
   ],
   "metadata": {
    "collapsed": false
   }
  },
  {
   "cell_type": "code",
   "execution_count": 176,
   "outputs": [
    {
     "data": {
      "text/plain": "                   Company                Industry        Country  \\\n0               EBBVI, OOO             Health Care  United States   \n1                  ALS, AO               Materials         France   \n2              AIRBUS, LLC             Industrials    Netherlands   \n3      FUDZHIFILM RUS, OOO  Information Technology          Japan   \n4      HERZ GROUP RUS, LLC  Consumer Discretionary        Austria   \n5         UPDK-KHAINS, OOO             Industrials  United States   \n6    ID LOGISTIKS RUS, OOO             Industrials         France   \n7  MERCK LIFE SCIENCE, LLC             Health Care  United States   \n8      NOVARTIS FARMA, OOO             Health Care    Switzerland   \n9                 OMV, OOO                  Energy        Austria   \n\n                                              Action      Tone  \\\n0  ['suspend', 'aesthetics', 'operations', ',', '...    paused   \n1  ['some', 'clients', 'no', 'longer', 'supplied'...    leaved   \n2  ['suspend', 'supply', 'of', 'parts', 'and', 'd...  continue   \n3                 ['suspended', 'some', 'shipments']    leaved   \n4          ['no', 'new', 'business', 'in', 'russia']    leaved   \n5  ['suspend', 'new', 'investments', 'in', 'russia']    paused   \n6   ['suspend', 'new', 'investment', 'in', 'russia']    paused   \n7  ['no', 'further', 'investments/clinical', 'tri...    leaved   \n8  ['pause', 'all', 'new', 'capital', 'investment...    leaved   \n9  ['no', 'new', 'russian', 'investments', ';', '...    leaved   \n\n   Возраст компании, лет                           Вид деятельности/отрасль  \\\n0                   10.5       Торговля оптовая фармацевтической продукцией   \n1                   17.5                    Производство промышленных газов   \n2                    1.0                Деятельность туристических агентств   \n3                   29.0              Торговля оптовая неспециализированная   \n4                    0.5  Торговля оптовая водопроводным и отопительным ...   \n5                   31.0  Управление недвижимым имуществом за вознагражд...   \n6                   12.5           Деятельность по складированию и хранению   \n7                   17.5  Деятельность предпринимательских членских неко...   \n8                   16.0       Торговля оптовая фармацевтической продукцией   \n9                   26.5  Деятельность по финансовой аренде (лизингу/суб...   \n\n              Организационно-правовая форма  \\\n0  Общества с ограниченной ответственностью   \n1          Непубличные акционерные общества   \n2  Общества с ограниченной ответственностью   \n3  Общества с ограниченной ответственностью   \n4  Общества с ограниченной ответственностью   \n5  Общества с ограниченной ответственностью   \n6  Общества с ограниченной ответственностью   \n7  Общества с ограниченной ответственностью   \n8  Общества с ограниченной ответственностью   \n9  Общества с ограниченной ответственностью   \n\n                              Форма собственности      Размер компании  \\\n0       Собственность иностранных юридических лиц  Крупные предприятия   \n1  Совместная частная и иностранная собственность  Крупные предприятия   \n2                           Частная собственность                  NaN   \n3       Собственность иностранных юридических лиц  Крупные предприятия   \n4                           Частная собственность                  NaN   \n5                       Федеральная собственность                  NaN   \n6       Собственность иностранных юридических лиц  Крупные предприятия   \n7       Собственность иностранных юридических лиц  Средние предприятия   \n8       Собственность иностранных юридических лиц  Крупные предприятия   \n9                           Частная собственность     Микропредприятия   \n\n   2017, Выручка, RUB  2018, Выручка, RUB  2019, Выручка, RUB  \\\n0        1.025459e+10        9.951071e+09        1.020822e+10   \n1        4.241597e+09        4.085493e+09        4.219756e+09   \n2                 NaN                 NaN                 NaN   \n3        3.178782e+09        3.672729e+09        2.898280e+09   \n4                 NaN                 NaN                 NaN   \n5                 NaN                 NaN                 NaN   \n6        1.230715e+09        1.627697e+09        2.572849e+09   \n7        5.021710e+08        7.805270e+08        8.318420e+08   \n8        1.818445e+10        2.189451e+10        2.813808e+10   \n9        4.295000e+06        3.292000e+06        5.660000e+06   \n\n   2020, Выручка, RUB  2021, Выручка, RUB  \\\n0        1.103842e+10        1.010707e+10   \n1        4.261008e+09        3.935799e+09   \n2                 NaN                 NaN   \n3        2.800149e+09        3.410160e+09   \n4                 NaN                 NaN   \n5                 NaN                 NaN   \n6        2.239789e+09        2.639568e+09   \n7        1.349847e+09        1.831439e+09   \n8        3.185499e+10        3.972223e+10   \n9        7.350000e+06        7.103000e+06   \n\n   2017, Прибыль (убыток) до налогообложения , RUB  \\\n0                                     3.976700e+07   \n1                                     1.758438e+09   \n2                                              NaN   \n3                                     1.175040e+08   \n4                                              NaN   \n5                                    -2.700000e+04   \n6                                     8.034900e+07   \n7                                     1.023740e+08   \n8                                    -4.636200e+07   \n9                                    -5.800000e+04   \n\n   2018, Прибыль (убыток) до налогообложения , RUB  \\\n0                                     1.156120e+08   \n1                                     1.923752e+09   \n2                                              NaN   \n3                                     4.929400e+07   \n4                                              NaN   \n5                                    -6.570000e+05   \n6                                    -7.945400e+07   \n7                                     9.124000e+07   \n8                                     9.910820e+08   \n9                                    -3.088000e+06   \n\n   2019, Прибыль (убыток) до налогообложения , RUB  \\\n0                                    -9.847700e+07   \n1                                     2.082180e+09   \n2                                              NaN   \n3                                     1.880410e+08   \n4                                              NaN   \n5                                    -4.730000e+05   \n6                                    -1.681290e+08   \n7                                     5.450100e+07   \n8                                     1.615200e+08   \n9                                     8.450000e+05   \n\n   2020, Прибыль (убыток) до налогообложения , RUB  \\\n0                                     4.366250e+08   \n1                                     2.148197e+09   \n2                                              NaN   \n3                                     2.654330e+08   \n4                                              NaN   \n5                                    -1.150000e+05   \n6                                     6.518300e+07   \n7                                     3.063090e+08   \n8                                     8.897000e+07   \n9                                     2.063000e+06   \n\n   2021, Прибыль (убыток) до налогообложения , RUB  \n0                                     4.927860e+08  \n1                                     2.038560e+09  \n2                                              NaN  \n3                                     4.462840e+08  \n4                                              NaN  \n5                                    -8.300000e+04  \n6                                     1.402440e+08  \n7                                     3.462030e+08  \n8                                     5.594630e+08  \n9                                     1.690000e+06  ",
      "text/html": "<div>\n<style scoped>\n    .dataframe tbody tr th:only-of-type {\n        vertical-align: middle;\n    }\n\n    .dataframe tbody tr th {\n        vertical-align: top;\n    }\n\n    .dataframe thead th {\n        text-align: right;\n    }\n</style>\n<table border=\"1\" class=\"dataframe\">\n  <thead>\n    <tr style=\"text-align: right;\">\n      <th></th>\n      <th>Company</th>\n      <th>Industry</th>\n      <th>Country</th>\n      <th>Action</th>\n      <th>Tone</th>\n      <th>Возраст компании, лет</th>\n      <th>Вид деятельности/отрасль</th>\n      <th>Организационно-правовая форма</th>\n      <th>Форма собственности</th>\n      <th>Размер компании</th>\n      <th>2017, Выручка, RUB</th>\n      <th>2018, Выручка, RUB</th>\n      <th>2019, Выручка, RUB</th>\n      <th>2020, Выручка, RUB</th>\n      <th>2021, Выручка, RUB</th>\n      <th>2017, Прибыль (убыток) до налогообложения , RUB</th>\n      <th>2018, Прибыль (убыток) до налогообложения , RUB</th>\n      <th>2019, Прибыль (убыток) до налогообложения , RUB</th>\n      <th>2020, Прибыль (убыток) до налогообложения , RUB</th>\n      <th>2021, Прибыль (убыток) до налогообложения , RUB</th>\n    </tr>\n  </thead>\n  <tbody>\n    <tr>\n      <th>0</th>\n      <td>EBBVI, OOO</td>\n      <td>Health Care</td>\n      <td>United States</td>\n      <td>['suspend', 'aesthetics', 'operations', ',', '...</td>\n      <td>paused</td>\n      <td>10.5</td>\n      <td>Торговля оптовая фармацевтической продукцией</td>\n      <td>Общества с ограниченной ответственностью</td>\n      <td>Собственность иностранных юридических лиц</td>\n      <td>Крупные предприятия</td>\n      <td>1.025459e+10</td>\n      <td>9.951071e+09</td>\n      <td>1.020822e+10</td>\n      <td>1.103842e+10</td>\n      <td>1.010707e+10</td>\n      <td>3.976700e+07</td>\n      <td>1.156120e+08</td>\n      <td>-9.847700e+07</td>\n      <td>4.366250e+08</td>\n      <td>4.927860e+08</td>\n    </tr>\n    <tr>\n      <th>1</th>\n      <td>ALS, AO</td>\n      <td>Materials</td>\n      <td>France</td>\n      <td>['some', 'clients', 'no', 'longer', 'supplied'...</td>\n      <td>leaved</td>\n      <td>17.5</td>\n      <td>Производство промышленных газов</td>\n      <td>Непубличные акционерные общества</td>\n      <td>Совместная частная и иностранная собственность</td>\n      <td>Крупные предприятия</td>\n      <td>4.241597e+09</td>\n      <td>4.085493e+09</td>\n      <td>4.219756e+09</td>\n      <td>4.261008e+09</td>\n      <td>3.935799e+09</td>\n      <td>1.758438e+09</td>\n      <td>1.923752e+09</td>\n      <td>2.082180e+09</td>\n      <td>2.148197e+09</td>\n      <td>2.038560e+09</td>\n    </tr>\n    <tr>\n      <th>2</th>\n      <td>AIRBUS, LLC</td>\n      <td>Industrials</td>\n      <td>Netherlands</td>\n      <td>['suspend', 'supply', 'of', 'parts', 'and', 'd...</td>\n      <td>continue</td>\n      <td>1.0</td>\n      <td>Деятельность туристических агентств</td>\n      <td>Общества с ограниченной ответственностью</td>\n      <td>Частная собственность</td>\n      <td>NaN</td>\n      <td>NaN</td>\n      <td>NaN</td>\n      <td>NaN</td>\n      <td>NaN</td>\n      <td>NaN</td>\n      <td>NaN</td>\n      <td>NaN</td>\n      <td>NaN</td>\n      <td>NaN</td>\n      <td>NaN</td>\n    </tr>\n    <tr>\n      <th>3</th>\n      <td>FUDZHIFILM RUS, OOO</td>\n      <td>Information Technology</td>\n      <td>Japan</td>\n      <td>['suspended', 'some', 'shipments']</td>\n      <td>leaved</td>\n      <td>29.0</td>\n      <td>Торговля оптовая неспециализированная</td>\n      <td>Общества с ограниченной ответственностью</td>\n      <td>Собственность иностранных юридических лиц</td>\n      <td>Крупные предприятия</td>\n      <td>3.178782e+09</td>\n      <td>3.672729e+09</td>\n      <td>2.898280e+09</td>\n      <td>2.800149e+09</td>\n      <td>3.410160e+09</td>\n      <td>1.175040e+08</td>\n      <td>4.929400e+07</td>\n      <td>1.880410e+08</td>\n      <td>2.654330e+08</td>\n      <td>4.462840e+08</td>\n    </tr>\n    <tr>\n      <th>4</th>\n      <td>HERZ GROUP RUS, LLC</td>\n      <td>Consumer Discretionary</td>\n      <td>Austria</td>\n      <td>['no', 'new', 'business', 'in', 'russia']</td>\n      <td>leaved</td>\n      <td>0.5</td>\n      <td>Торговля оптовая водопроводным и отопительным ...</td>\n      <td>Общества с ограниченной ответственностью</td>\n      <td>Частная собственность</td>\n      <td>NaN</td>\n      <td>NaN</td>\n      <td>NaN</td>\n      <td>NaN</td>\n      <td>NaN</td>\n      <td>NaN</td>\n      <td>NaN</td>\n      <td>NaN</td>\n      <td>NaN</td>\n      <td>NaN</td>\n      <td>NaN</td>\n    </tr>\n    <tr>\n      <th>5</th>\n      <td>UPDK-KHAINS, OOO</td>\n      <td>Industrials</td>\n      <td>United States</td>\n      <td>['suspend', 'new', 'investments', 'in', 'russia']</td>\n      <td>paused</td>\n      <td>31.0</td>\n      <td>Управление недвижимым имуществом за вознагражд...</td>\n      <td>Общества с ограниченной ответственностью</td>\n      <td>Федеральная собственность</td>\n      <td>NaN</td>\n      <td>NaN</td>\n      <td>NaN</td>\n      <td>NaN</td>\n      <td>NaN</td>\n      <td>NaN</td>\n      <td>-2.700000e+04</td>\n      <td>-6.570000e+05</td>\n      <td>-4.730000e+05</td>\n      <td>-1.150000e+05</td>\n      <td>-8.300000e+04</td>\n    </tr>\n    <tr>\n      <th>6</th>\n      <td>ID LOGISTIKS RUS, OOO</td>\n      <td>Industrials</td>\n      <td>France</td>\n      <td>['suspend', 'new', 'investment', 'in', 'russia']</td>\n      <td>paused</td>\n      <td>12.5</td>\n      <td>Деятельность по складированию и хранению</td>\n      <td>Общества с ограниченной ответственностью</td>\n      <td>Собственность иностранных юридических лиц</td>\n      <td>Крупные предприятия</td>\n      <td>1.230715e+09</td>\n      <td>1.627697e+09</td>\n      <td>2.572849e+09</td>\n      <td>2.239789e+09</td>\n      <td>2.639568e+09</td>\n      <td>8.034900e+07</td>\n      <td>-7.945400e+07</td>\n      <td>-1.681290e+08</td>\n      <td>6.518300e+07</td>\n      <td>1.402440e+08</td>\n    </tr>\n    <tr>\n      <th>7</th>\n      <td>MERCK LIFE SCIENCE, LLC</td>\n      <td>Health Care</td>\n      <td>United States</td>\n      <td>['no', 'further', 'investments/clinical', 'tri...</td>\n      <td>leaved</td>\n      <td>17.5</td>\n      <td>Деятельность предпринимательских членских неко...</td>\n      <td>Общества с ограниченной ответственностью</td>\n      <td>Собственность иностранных юридических лиц</td>\n      <td>Средние предприятия</td>\n      <td>5.021710e+08</td>\n      <td>7.805270e+08</td>\n      <td>8.318420e+08</td>\n      <td>1.349847e+09</td>\n      <td>1.831439e+09</td>\n      <td>1.023740e+08</td>\n      <td>9.124000e+07</td>\n      <td>5.450100e+07</td>\n      <td>3.063090e+08</td>\n      <td>3.462030e+08</td>\n    </tr>\n    <tr>\n      <th>8</th>\n      <td>NOVARTIS FARMA, OOO</td>\n      <td>Health Care</td>\n      <td>Switzerland</td>\n      <td>['pause', 'all', 'new', 'capital', 'investment...</td>\n      <td>leaved</td>\n      <td>16.0</td>\n      <td>Торговля оптовая фармацевтической продукцией</td>\n      <td>Общества с ограниченной ответственностью</td>\n      <td>Собственность иностранных юридических лиц</td>\n      <td>Крупные предприятия</td>\n      <td>1.818445e+10</td>\n      <td>2.189451e+10</td>\n      <td>2.813808e+10</td>\n      <td>3.185499e+10</td>\n      <td>3.972223e+10</td>\n      <td>-4.636200e+07</td>\n      <td>9.910820e+08</td>\n      <td>1.615200e+08</td>\n      <td>8.897000e+07</td>\n      <td>5.594630e+08</td>\n    </tr>\n    <tr>\n      <th>9</th>\n      <td>OMV, OOO</td>\n      <td>Energy</td>\n      <td>Austria</td>\n      <td>['no', 'new', 'russian', 'investments', ';', '...</td>\n      <td>leaved</td>\n      <td>26.5</td>\n      <td>Деятельность по финансовой аренде (лизингу/суб...</td>\n      <td>Общества с ограниченной ответственностью</td>\n      <td>Частная собственность</td>\n      <td>Микропредприятия</td>\n      <td>4.295000e+06</td>\n      <td>3.292000e+06</td>\n      <td>5.660000e+06</td>\n      <td>7.350000e+06</td>\n      <td>7.103000e+06</td>\n      <td>-5.800000e+04</td>\n      <td>-3.088000e+06</td>\n      <td>8.450000e+05</td>\n      <td>2.063000e+06</td>\n      <td>1.690000e+06</td>\n    </tr>\n  </tbody>\n</table>\n</div>"
     },
     "execution_count": 176,
     "metadata": {},
     "output_type": "execute_result"
    }
   ],
   "source": [
    "df['2017, Выручка, RUB'] = df['2017, Выручка, RUB'].str.replace(' ', '').astype(float)\n",
    "df['2018, Выручка, RUB'] = df['2018, Выручка, RUB'].str.replace(' ', '').astype(float)\n",
    "df['2019, Выручка, RUB'] = df['2019, Выручка, RUB'].str.replace(' ', '').astype(float)\n",
    "df['2020, Выручка, RUB'] = df['2020, Выручка, RUB'].str.replace(' ', '').astype(float)\n",
    "df['2021, Выручка, RUB'] = df['2021, Выручка, RUB'].str.replace(' ', '').astype(float)\n",
    "df['2017, Прибыль (убыток) до налогообложения , RUB'] = df['2017, Прибыль (убыток) до налогообложения , RUB'].str.replace(' ', '').astype(float)\n",
    "df['2018, Прибыль (убыток) до налогообложения , RUB'] = df['2018, Прибыль (убыток) до налогообложения , RUB'].str.replace(' ', '').astype(float)\n",
    "df['2019, Прибыль (убыток) до налогообложения , RUB'] = df['2019, Прибыль (убыток) до налогообложения , RUB'].str.replace(' ', '').astype(float)\n",
    "df['2020, Прибыль (убыток) до налогообложения , RUB'] = df['2020, Прибыль (убыток) до налогообложения , RUB'].str.replace(' ', '').astype(float)\n",
    "df['2021, Прибыль (убыток) до налогообложения , RUB'] = df['2021, Прибыль (убыток) до налогообложения , RUB'].str.replace(' ', '').astype(float)\n",
    "\n",
    "df.head(10)"
   ],
   "metadata": {
    "collapsed": false,
    "ExecuteTime": {
     "end_time": "2023-05-26T22:00:15.171703Z",
     "start_time": "2023-05-26T22:00:14.877059Z"
    }
   }
  },
  {
   "cell_type": "code",
   "execution_count": 177,
   "outputs": [
    {
     "data": {
      "text/plain": "(476, 20)"
     },
     "execution_count": 177,
     "metadata": {},
     "output_type": "execute_result"
    }
   ],
   "source": [
    "df.shape"
   ],
   "metadata": {
    "collapsed": false,
    "ExecuteTime": {
     "end_time": "2023-05-26T22:00:15.171872Z",
     "start_time": "2023-05-26T22:00:14.916327Z"
    }
   }
  },
  {
   "cell_type": "markdown",
   "source": [
    "## Handling missing values in DF"
   ],
   "metadata": {
    "collapsed": false
   }
  },
  {
   "cell_type": "markdown",
   "source": [
    "Count total NaN at each column in a database"
   ],
   "metadata": {
    "collapsed": false
   }
  },
  {
   "cell_type": "code",
   "execution_count": 178,
   "outputs": [
    {
     "name": "stdout",
     "output_type": "stream",
     "text": [
      " \n",
      "Count total NaN at each column in a DataFrame : \n",
      "\n",
      " Company                                              0\n",
      "Industry                                             0\n",
      "Country                                              0\n",
      "Action                                               0\n",
      "Tone                                                 0\n",
      "Возраст компании, лет                                0\n",
      "Вид деятельности/отрасль                             0\n",
      "Организационно-правовая форма                        0\n",
      "Форма собственности                                  0\n",
      "Размер компании                                     77\n",
      "2017, Выручка, RUB                                 123\n",
      "2018, Выручка, RUB                                 111\n",
      "2019, Выручка, RUB                                 104\n",
      "2020, Выручка, RUB                                 100\n",
      "2021, Выручка, RUB                                 106\n",
      "2017, Прибыль (убыток) до налогообложения , RUB    110\n",
      "2018, Прибыль (убыток) до налогообложения , RUB    103\n",
      "2019, Прибыль (убыток) до налогообложения , RUB     89\n",
      "2020, Прибыль (убыток) до налогообложения , RUB     86\n",
      "2021, Прибыль (убыток) до налогообложения , RUB     92\n",
      "dtype: int64\n"
     ]
    }
   ],
   "source": [
    "print(\" \\nCount total NaN at each column in a DataFrame : \\n\\n\", df.isnull().sum())"
   ],
   "metadata": {
    "collapsed": false,
    "ExecuteTime": {
     "end_time": "2023-05-26T22:00:15.172070Z",
     "start_time": "2023-05-26T22:00:14.924888Z"
    }
   }
  },
  {
   "cell_type": "markdown",
   "source": [
    "Visualize missing values in dataset"
   ],
   "metadata": {
    "collapsed": false
   }
  },
  {
   "cell_type": "code",
   "execution_count": null,
   "outputs": [],
   "source": [
    "import missingno as msno\n",
    "msno.bar(df)"
   ],
   "metadata": {
    "collapsed": false
   }
  }
 ],
 "metadata": {
  "kernelspec": {
   "display_name": "Python 3",
   "language": "python",
   "name": "python3"
  },
  "language_info": {
   "codemirror_mode": {
    "name": "ipython",
    "version": 2
   },
   "file_extension": ".py",
   "mimetype": "text/x-python",
   "name": "python",
   "nbconvert_exporter": "python",
   "pygments_lexer": "ipython2",
   "version": "2.7.6"
  }
 },
 "nbformat": 4,
 "nbformat_minor": 0
}
